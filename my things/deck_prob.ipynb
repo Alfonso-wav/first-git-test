{
 "cells": [
  {
   "cell_type": "markdown",
   "metadata": {},
   "source": [
    "We have a regular Deck of Cards with 52 Cards. Each Time we extract 5 cards from the deck.\n",
    "\n",
    "We want to know the probability of drawing these hands:\n",
    "\n",
    "A - 4 Aces\n",
    "\n",
    "B - 4 Aces and a King\n",
    "\n",
    "C - Three 5 and 2 Jacks\n",
    "\n",
    "D - One 9, 10, Jacks, Queen and a King in any order\n",
    "\n",
    "E - Three of any suit and Two from another one\n",
    "\n",
    "F - At least one Ace"
   ]
  },
  {
   "cell_type": "code",
   "execution_count": 3,
   "metadata": {},
   "outputs": [
    {
     "data": {
      "text/plain": [
       "0"
      ]
     },
     "execution_count": 3,
     "metadata": {},
     "output_type": "execute_result"
    }
   ],
   "source": [
    "import random\n",
    "import numpy as np\n",
    "\n",
    "#Create a Deck of Cards\n",
    "numbers = ['1', '2', '3', '4', '5', '6' ,'7' ,'8' ,'9' ,'10', 'J', 'Q', 'K' ]\n",
    "suits = ['Hearts', 'Spades', 'Diamonds', 'Clubs']\n",
    "deck = []\n",
    "\n",
    "#Iterate through suits by numbers and export to deck\n",
    "for suit in suits:\n",
    "    for number in numbers:\n",
    "        card = f'{number} of {suit}'\n",
    "        deck.append(card)\n",
    "    \n",
    "\n",
    "#define function for probabilities\n",
    "def extract (times) :\n",
    "    #create variables for each probability\n",
    "    probA = 0\n",
    "    probB = 0\n",
    "    probC = 0\n",
    "    probD = 0\n",
    "    probE = 0\n",
    "    probF = 0\n",
    "    #iterate through times \n",
    "    for i in range (times):\n",
    "        total = []\n",
    "        for j in range(5):\n",
    "            total.append(deck[random.randint(0,51)])\n",
    "            \n",
    "        #total = np.array(total)\n",
    "\n",
    "        sit1 = total.count('1 of Hearts') + total.count('1 of Spades') + total.count('1 of Diamonds') + total.count('1 of Clubs')\n",
    "        #sit2 = \n",
    "        #sit3 = \n",
    "        #sit4 = \n",
    "        #sit5 = \n",
    "        #sit6 = \n",
    "        if total == sit1:\n",
    "            probA += 1\n",
    "\n",
    "        return probA\n",
    "\n",
    "    \n",
    "    \n",
    "\n",
    "\n",
    "\n",
    "\n",
    "\n",
    "extract(1)"
   ]
  },
  {
   "cell_type": "code",
   "execution_count": null,
   "metadata": {},
   "outputs": [],
   "source": []
  }
 ],
 "metadata": {
  "kernelspec": {
   "display_name": "Python 3",
   "language": "python",
   "name": "python3"
  },
  "language_info": {
   "codemirror_mode": {
    "name": "ipython",
    "version": 3
   },
   "file_extension": ".py",
   "mimetype": "text/x-python",
   "name": "python",
   "nbconvert_exporter": "python",
   "pygments_lexer": "ipython3",
   "version": "3.10.8"
  }
 },
 "nbformat": 4,
 "nbformat_minor": 2
}
