{
 "cells": [
  {
   "cell_type": "code",
   "execution_count": 15,
   "metadata": {},
   "outputs": [
    {
     "name": "stdout",
     "output_type": "stream",
     "text": [
      "Cada vez que veo a Ronaldinho,se come unos Hugo Chávez.\n"
     ]
    }
   ],
   "source": [
    "import random\n",
    "\n",
    "names = [\n",
    "    \"Charizard\",\n",
    "    \"Ronaldinho\",\n",
    "    \"Nixon\"\n",
    "    ]\n",
    "\n",
    "actions = [\n",
    "    \"se come\",\n",
    "    \"pisa sobre\",\n",
    "    \"amanece como\"\n",
    "]\n",
    "\n",
    "objects = [\n",
    "    \"churros con chocolate\",\n",
    "    \"Hugo Chávez\",\n",
    "    \"crema nivea\"\n",
    "]\n",
    "\n",
    "person = random.choice(names)\n",
    "makes = random.choice(actions)\n",
    "target = random.choice(objects)\n",
    "\n",
    "print(f'Cada vez que veo a {person},{makes} unos {target}.')\n"
   ]
  }
 ],
 "metadata": {
  "kernelspec": {
   "display_name": "Python 3",
   "language": "python",
   "name": "python3"
  },
  "language_info": {
   "codemirror_mode": {
    "name": "ipython",
    "version": 3
   },
   "file_extension": ".py",
   "mimetype": "text/x-python",
   "name": "python",
   "nbconvert_exporter": "python",
   "pygments_lexer": "ipython3",
   "version": "3.10.8"
  }
 },
 "nbformat": 4,
 "nbformat_minor": 2
}
