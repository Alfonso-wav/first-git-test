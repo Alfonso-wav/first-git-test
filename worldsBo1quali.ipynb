{
 "cells": [
  {
   "cell_type": "code",
   "execution_count": 4,
   "metadata": {},
   "outputs": [
    {
     "data": {
      "text/html": [
       "<div>\n",
       "<style scoped>\n",
       "    .dataframe tbody tr th:only-of-type {\n",
       "        vertical-align: middle;\n",
       "    }\n",
       "\n",
       "    .dataframe tbody tr th {\n",
       "        vertical-align: top;\n",
       "    }\n",
       "\n",
       "    .dataframe thead th {\n",
       "        text-align: right;\n",
       "    }\n",
       "</style>\n",
       "<table border=\"1\" class=\"dataframe\">\n",
       "  <thead>\n",
       "    <tr style=\"text-align: right;\">\n",
       "      <th></th>\n",
       "      <th>team</th>\n",
       "    </tr>\n",
       "    <tr>\n",
       "      <th>region</th>\n",
       "      <th></th>\n",
       "    </tr>\n",
       "  </thead>\n",
       "  <tbody>\n",
       "    <tr>\n",
       "      <th>LCK</th>\n",
       "      <td>T1</td>\n",
       "    </tr>\n",
       "    <tr>\n",
       "      <th>LCK</th>\n",
       "      <td>Gen.G</td>\n",
       "    </tr>\n",
       "    <tr>\n",
       "      <th>LCK</th>\n",
       "      <td>DPlus Kia</td>\n",
       "    </tr>\n",
       "    <tr>\n",
       "      <th>LCK</th>\n",
       "      <td>KT Rolster</td>\n",
       "    </tr>\n",
       "    <tr>\n",
       "      <th>LCS</th>\n",
       "      <td>Team Liquid</td>\n",
       "    </tr>\n",
       "    <tr>\n",
       "      <th>LCS</th>\n",
       "      <td>Cloud9</td>\n",
       "    </tr>\n",
       "    <tr>\n",
       "      <th>LCS</th>\n",
       "      <td>NRG</td>\n",
       "    </tr>\n",
       "    <tr>\n",
       "      <th>LEC</th>\n",
       "      <td>Mad Lions</td>\n",
       "    </tr>\n",
       "    <tr>\n",
       "      <th>LEC</th>\n",
       "      <td>Team BDS</td>\n",
       "    </tr>\n",
       "    <tr>\n",
       "      <th>LEC</th>\n",
       "      <td>G2 Esports</td>\n",
       "    </tr>\n",
       "    <tr>\n",
       "      <th>LEC</th>\n",
       "      <td>FNATIC</td>\n",
       "    </tr>\n",
       "    <tr>\n",
       "      <th>LPL</th>\n",
       "      <td>JD Gaming</td>\n",
       "    </tr>\n",
       "    <tr>\n",
       "      <th>LPL</th>\n",
       "      <td>Weibo Gaming</td>\n",
       "    </tr>\n",
       "    <tr>\n",
       "      <th>LPL</th>\n",
       "      <td>LNG Esports</td>\n",
       "    </tr>\n",
       "    <tr>\n",
       "      <th>LPL</th>\n",
       "      <td>BiliBili Gaming</td>\n",
       "    </tr>\n",
       "    <tr>\n",
       "      <th>PCI</th>\n",
       "      <td>Gam Esports</td>\n",
       "    </tr>\n",
       "  </tbody>\n",
       "</table>\n",
       "</div>"
      ],
      "text/plain": [
       "                   team\n",
       "region                 \n",
       "LCK                  T1\n",
       "LCK               Gen.G\n",
       "LCK           DPlus Kia\n",
       "LCK          KT Rolster\n",
       "LCS         Team Liquid\n",
       "LCS              Cloud9\n",
       "LCS                 NRG\n",
       "LEC           Mad Lions\n",
       "LEC            Team BDS\n",
       "LEC          G2 Esports\n",
       "LEC              FNATIC\n",
       "LPL           JD Gaming\n",
       "LPL        Weibo Gaming\n",
       "LPL         LNG Esports\n",
       "LPL     BiliBili Gaming\n",
       "PCI         Gam Esports"
      ]
     },
     "execution_count": 4,
     "metadata": {},
     "output_type": "execute_result"
    }
   ],
   "source": [
    "# list all teams\n",
    "\n",
    "teams = { \n",
    "\n",
    "    'T1': 'LCK', \n",
    "    'Team Liquid': 'LCS', \n",
    "    'Cloud9' : 'LCS', \n",
    "    'Mad Lions' : 'LEC', \n",
    "    'Gen.G' : 'LCK', \n",
    "    'Gam Esports' : 'PCI', \n",
    "    'Team BDS' : 'LEC',\n",
    "    'JD Gaming' : 'LPL',\n",
    "    'G2 Esports' : 'LEC',\n",
    "    'DPlus Kia' : 'LCK',\n",
    "    'Weibo Gaming': 'LPL',\n",
    "    'NRG': 'LCS',\n",
    "    'LNG Esports' : 'LPL',\n",
    "    'FNATIC' : 'LEC',\n",
    "    'BiliBili Gaming' : 'LPL',\n",
    "    'KT Rolster': 'LCK'\n",
    "\n",
    "    }\n",
    "\n",
    "\n",
    "import pandas as pd\n",
    "\n",
    "df = pd.DataFrame(teams.items(), columns=['team', 'region'])\n",
    "\n",
    "df = df.sort_values(by='region')\n",
    "df.set_index('region')"
   ]
  },
  {
   "cell_type": "code",
   "execution_count": 10,
   "metadata": {},
   "outputs": [
    {
     "ename": "AttributeError",
     "evalue": "type object 'dict' has no attribute 'value'",
     "output_type": "error",
     "traceback": [
      "\u001b[0;31m---------------------------------------------------------------------------\u001b[0m",
      "\u001b[0;31mAttributeError\u001b[0m                            Traceback (most recent call last)",
      "\u001b[1;32m/workspaces/first-git-test/worldsBo1quali.ipynb Celda 2\u001b[0m line \u001b[0;36m7\n\u001b[1;32m      <a href='vscode-notebook-cell://codespaces%2Bsuper-duper-cod-9797q9p6w5jw3ppww/workspaces/first-git-test/worldsBo1quali.ipynb#X26sdnNjb2RlLXJlbW90ZQ%3D%3D?line=3'>4</a>\u001b[0m list4 \u001b[39m=\u001b[39m []\n\u001b[1;32m      <a href='vscode-notebook-cell://codespaces%2Bsuper-duper-cod-9797q9p6w5jw3ppww/workspaces/first-git-test/worldsBo1quali.ipynb#X26sdnNjb2RlLXJlbW90ZQ%3D%3D?line=5'>6</a>\u001b[0m \u001b[39mfor\u001b[39;00m i \u001b[39min\u001b[39;00m teams:\n\u001b[0;32m----> <a href='vscode-notebook-cell://codespaces%2Bsuper-duper-cod-9797q9p6w5jw3ppww/workspaces/first-git-test/worldsBo1quali.ipynb#X26sdnNjb2RlLXJlbW90ZQ%3D%3D?line=6'>7</a>\u001b[0m     \u001b[39mif\u001b[39;00m \u001b[39mdict\u001b[39;49m\u001b[39m.\u001b[39;49mvalue[i] \u001b[39m==\u001b[39m \u001b[39m'\u001b[39m\u001b[39mLCS\u001b[39m\u001b[39m'\u001b[39m:\n\u001b[1;32m      <a href='vscode-notebook-cell://codespaces%2Bsuper-duper-cod-9797q9p6w5jw3ppww/workspaces/first-git-test/worldsBo1quali.ipynb#X26sdnNjb2RlLXJlbW90ZQ%3D%3D?line=7'>8</a>\u001b[0m         list1\u001b[39m.\u001b[39mappend(i)\n\u001b[1;32m     <a href='vscode-notebook-cell://codespaces%2Bsuper-duper-cod-9797q9p6w5jw3ppww/workspaces/first-git-test/worldsBo1quali.ipynb#X26sdnNjb2RlLXJlbW90ZQ%3D%3D?line=9'>10</a>\u001b[0m list1\n",
      "\u001b[0;31mAttributeError\u001b[0m: type object 'dict' has no attribute 'value'"
     ]
    }
   ],
   "source": [
    "list1 = []\n",
    "list2 = []\n",
    "list3 = []\n",
    "list4 = []\n",
    "\n",
    "for i in teams:\n",
    "    if dict.value[i] == 'LCS':\n",
    "        list1.append(i)\n",
    "\n",
    "list1"
   ]
  },
  {
   "cell_type": "code",
   "execution_count": 14,
   "metadata": {},
   "outputs": [
    {
     "name": "stdout",
     "output_type": "stream",
     "text": [
      "{'LCK': ['T1', 'Gen.G', 'DPlus Kia', 'KT Rolster'], 'LPL': ['JD Gaming', 'Weibo Gaming', 'LNG Esports', 'BiliBili Gaming'], 'LEC': ['Mad Lions', 'Team BDS', 'G2 Esports', 'FNATIC'], 'PCI': ['Gam Esports'], 'LCS': ['Team Liquid', 'Cloud9', 'NRG']}\n"
     ]
    }
   ],
   "source": [
    "from collections import defaultdict\n",
    "\n",
    "# Obtén los valores únicos del diccionario.\n",
    "valores_unicos = set(teams.values())\n",
    "\n",
    "# Inicializa un diccionario donde cada clave es un valor único y el valor es un array.\n",
    "arrays_por_valor = {valor: [] for valor in valores_unicos}\n",
    "\n",
    "# Itera a través del diccionario y asigna cada elemento al array correspondiente.\n",
    "for clave, valor in teams.items():\n",
    "    arrays_por_valor[valor].append(clave)\n",
    "\n",
    "# Ahora tienes un diccionario donde cada clave es un valor y el valor es un array independiente.\n",
    "print(arrays_por_valor)\n",
    "\n"
   ]
  },
  {
   "cell_type": "code",
   "execution_count": 16,
   "metadata": {},
   "outputs": [
    {
     "ename": "TypeError",
     "evalue": "'dict' object is not callable",
     "output_type": "error",
     "traceback": [
      "\u001b[0;31m---------------------------------------------------------------------------\u001b[0m",
      "\u001b[0;31mTypeError\u001b[0m                                 Traceback (most recent call last)",
      "\u001b[1;32m/workspaces/first-git-test/worldsBo1quali.ipynb Celda 4\u001b[0m line \u001b[0;36m1\n\u001b[0;32m----> <a href='vscode-notebook-cell://codespaces%2Bsuper-duper-cod-9797q9p6w5jw3ppww/workspaces/first-git-test/worldsBo1quali.ipynb#W1sdnNjb2RlLXJlbW90ZQ%3D%3D?line=0'>1</a>\u001b[0m arrays_por_valor(\u001b[39m0\u001b[39;49m)\n",
      "\u001b[0;31mTypeError\u001b[0m: 'dict' object is not callable"
     ]
    }
   ],
   "source": [
    "arrays_por_valor(0)"
   ]
  },
  {
   "cell_type": "code",
   "execution_count": null,
   "metadata": {},
   "outputs": [],
   "source": []
  },
  {
   "cell_type": "code",
   "execution_count": null,
   "metadata": {},
   "outputs": [],
   "source": []
  },
  {
   "cell_type": "code",
   "execution_count": null,
   "metadata": {},
   "outputs": [],
   "source": []
  },
  {
   "cell_type": "code",
   "execution_count": null,
   "metadata": {},
   "outputs": [],
   "source": []
  },
  {
   "cell_type": "code",
   "execution_count": null,
   "metadata": {},
   "outputs": [],
   "source": []
  },
  {
   "cell_type": "code",
   "execution_count": null,
   "metadata": {},
   "outputs": [],
   "source": []
  },
  {
   "cell_type": "code",
   "execution_count": null,
   "metadata": {},
   "outputs": [],
   "source": []
  },
  {
   "cell_type": "code",
   "execution_count": null,
   "metadata": {},
   "outputs": [],
   "source": []
  },
  {
   "cell_type": "code",
   "execution_count": null,
   "metadata": {},
   "outputs": [],
   "source": []
  },
  {
   "cell_type": "code",
   "execution_count": null,
   "metadata": {},
   "outputs": [],
   "source": []
  },
  {
   "cell_type": "code",
   "execution_count": null,
   "metadata": {},
   "outputs": [],
   "source": []
  },
  {
   "cell_type": "code",
   "execution_count": null,
   "metadata": {},
   "outputs": [],
   "source": []
  },
  {
   "cell_type": "code",
   "execution_count": null,
   "metadata": {},
   "outputs": [],
   "source": []
  },
  {
   "cell_type": "code",
   "execution_count": null,
   "metadata": {},
   "outputs": [],
   "source": []
  },
  {
   "cell_type": "code",
   "execution_count": null,
   "metadata": {},
   "outputs": [],
   "source": []
  },
  {
   "cell_type": "code",
   "execution_count": null,
   "metadata": {},
   "outputs": [],
   "source": []
  },
  {
   "cell_type": "code",
   "execution_count": null,
   "metadata": {},
   "outputs": [],
   "source": []
  }
 ],
 "metadata": {
  "kernelspec": {
   "display_name": "Python 3",
   "language": "python",
   "name": "python3"
  },
  "language_info": {
   "codemirror_mode": {
    "name": "ipython",
    "version": 3
   },
   "file_extension": ".py",
   "mimetype": "text/x-python",
   "name": "python",
   "nbconvert_exporter": "python",
   "pygments_lexer": "ipython3",
   "version": "3.10.8"
  }
 },
 "nbformat": 4,
 "nbformat_minor": 2
}
