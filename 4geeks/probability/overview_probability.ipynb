{
 "cells": [
  {
   "cell_type": "markdown",
   "id": "edb116e8",
   "metadata": {},
   "source": [
    "### ¿Cuál es la probabilidad de que al tirar una moneda me salga cara?"
   ]
  },
  {
   "cell_type": "code",
   "execution_count": 1,
   "metadata": {},
   "outputs": [
    {
     "data": {
      "text/plain": [
       "0"
      ]
     },
     "execution_count": 1,
     "metadata": {},
     "output_type": "execute_result"
    }
   ],
   "source": [
    "import random\n",
    "\n",
    "def coin_trial():\n",
    "    result = random.random()\n",
    "    if result >= 0.5:\n",
    "        return 1\n",
    "    else:\n",
    "        return 0\n",
    "\n",
    "coin_trial()"
   ]
  },
  {
   "cell_type": "code",
   "execution_count": 2,
   "metadata": {},
   "outputs": [
    {
     "data": {
      "text/plain": [
       "0.49991"
      ]
     },
     "execution_count": 2,
     "metadata": {},
     "output_type": "execute_result"
    }
   ],
   "source": [
    "def sim(n_experiments):\n",
    "    heads = 0\n",
    "    for i in range(n_experiments):\n",
    "        result = coin_trial()\n",
    "        heads = heads + result\n",
    "    return heads / n_experiments\n",
    "\n",
    "sim(100000)"
   ]
  },
  {
   "cell_type": "markdown",
   "id": "62134cec",
   "metadata": {},
   "source": [
    "### ¿Cuál es la probabilidad de que al tirar una moneda me salga cara?"
   ]
  },
  {
   "cell_type": "code",
   "execution_count": 3,
   "id": "a0871f06",
   "metadata": {},
   "outputs": [
    {
     "data": {
      "text/plain": [
       "0.31"
      ]
     },
     "execution_count": 3,
     "metadata": {},
     "output_type": "execute_result"
    }
   ],
   "source": [
    "import random\n",
    "\n",
    "def coin_trial():\n",
    "    result = random.random()\n",
    "    if result >= 0.5:\n",
    "        return 1\n",
    "    else:\n",
    "        return 0\n",
    "\n",
    "def sim(n_experiments):\n",
    "    heads = 0\n",
    "    for i in range(n_experiments):\n",
    "        coin1 = coin_trial()\n",
    "        coin2 = coin_trial()\n",
    "        if (coin1 == 1) and (coin2):\n",
    "            heads = heads + 1\n",
    "    return heads / n_experiments\n",
    "\n",
    "sim(100)"
   ]
  }
 ],
 "metadata": {
  "kernelspec": {
   "display_name": "Python 3",
   "language": "python",
   "name": "python3"
  },
  "language_info": {
   "codemirror_mode": {
    "name": "ipython",
    "version": 3
   },
   "file_extension": ".py",
   "mimetype": "text/x-python",
   "name": "python",
   "nbconvert_exporter": "python",
   "pygments_lexer": "ipython3",
   "version": "3.10.8"
  }
 },
 "nbformat": 4,
 "nbformat_minor": 5
}
