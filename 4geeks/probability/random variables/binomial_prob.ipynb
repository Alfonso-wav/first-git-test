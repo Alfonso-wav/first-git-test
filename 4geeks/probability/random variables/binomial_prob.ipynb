{
 "cells": [
  {
   "cell_type": "markdown",
   "metadata": {},
   "source": [
    "**PROBLEM**\n",
    "\n",
    "The table below begins to explore these possible combinations.  We will look at further examples with more possible combinations but this will get us started.\n",
    "\n",
    "| sticks | # ways to get 0 white | 1 white | 2 white | 3 white | 4 white | 5 white |\n",
    "| ------  | ------  | ------  | ------  | ------  | ------  | ------  |\n",
    "| 1 | 1 | 1 | na | na | na | na |\n",
    "| 2 | 1 | 2 | 1 | na | na | na |\n",
    "| 3 | 1 | 3 | 3 | 1 | na | na |\n",
    "| 4 | 1 | 4 | 6  | 4 | 1 | na |\n",
    "| 5 | 1 | 5 | 10 | 10| 5 | 1 |\n",
    "| 6 | 1 | 6 | 15 | 20| 15| 6 |"
   ]
  },
  {
   "cell_type": "code",
   "execution_count": 27,
   "metadata": {},
   "outputs": [
    {
     "data": {
      "text/plain": [
       "6.0"
      ]
     },
     "execution_count": 27,
     "metadata": {},
     "output_type": "execute_result"
    }
   ],
   "source": [
    "from scipy.special import comb\n",
    "comb(6,5)\n"
   ]
  },
  {
   "cell_type": "markdown",
   "metadata": {},
   "source": [
    "## DISTRIBUCION BINOMIAL\n",
    "\n",
    "To determine the probability of an outcome, we must:\n",
    "\n",
    "- Count how many ways there are for this specific outcome to occur\n",
    "- Mutiply this by the probability of successes and failures\n",
    "\n",
    "As a function, we would have inputs that determine the outcome (success or failure, red or white, heads or tails, etc.), number of successes and failures, and the probability of a success. Below we have the functional form:\n",
    "\n",
    "$$f(k, n, p) = \\Pr(k;n,p)=\\Pr(X=k)={\\binom {n}{k}}p^{k}(1-p)^{n-k}$$\n",
    "\n",
    "\n",
    "We unpack this as follows:\n",
    "\n",
    "- $\\binom {n}{k}$ counts the number of ways an outcome can occur.  For example, $\\binom{4}{2}$ could be interpreted as how many ways are there to get two white sticks from four total.\n",
    "- $p^k$ is the probability of a success to the power of the number of successes.  For example $\\frac{1}{2}^2$ would be interpreted as the probability of getting a white stick twice.\n",
    "- $(1 - p)^k$ is the probability of a failure $n-k$ times.  For example $(1 - \\frac{1}{2})^2$ can be interpreted as the probability of a black stick two out of four attempts."
   ]
  },
  {
   "cell_type": "markdown",
   "metadata": {},
   "source": [
    "## Usando la computadora"
   ]
  },
  {
   "cell_type": "code",
   "execution_count": 2,
   "metadata": {},
   "outputs": [],
   "source": [
    "from scipy.special import comb"
   ]
  },
  {
   "cell_type": "code",
   "execution_count": 3,
   "metadata": {},
   "outputs": [
    {
     "data": {
      "text/plain": [
       "6.0"
      ]
     },
     "execution_count": 3,
     "metadata": {},
     "output_type": "execute_result"
    }
   ],
   "source": [
    "comb(4, 2)\n",
    "#formas de elegir 2 cosas de 4"
   ]
  },
  {
   "cell_type": "code",
   "execution_count": 4,
   "metadata": {},
   "outputs": [
    {
     "data": {
      "text/plain": [
       "0.25"
      ]
     },
     "execution_count": 4,
     "metadata": {},
     "output_type": "execute_result"
    }
   ],
   "source": [
    "(1/2)**2\n",
    "#probabilidad de éxito al número de éxitos"
   ]
  },
  {
   "cell_type": "code",
   "execution_count": 5,
   "metadata": {},
   "outputs": [
    {
     "data": {
      "text/plain": [
       "0.25"
      ]
     },
     "execution_count": 5,
     "metadata": {},
     "output_type": "execute_result"
    }
   ],
   "source": [
    "(1/2)**2\n",
    "#probabilidad de fallas al número de fallas"
   ]
  },
  {
   "cell_type": "code",
   "execution_count": 6,
   "metadata": {},
   "outputs": [
    {
     "data": {
      "text/plain": [
       "0.375"
      ]
     },
     "execution_count": 6,
     "metadata": {},
     "output_type": "execute_result"
    }
   ],
   "source": [
    "#combinar los tres\n",
    "n_choose_k = comb(4,2)\n",
    "p_to_the_k = (1/2)**2\n",
    "one_minus_p_to_the_n_minus_k = (1/2)**2\n",
    "#probabilidad de sacar 2 palos blancos de 4 totales\n",
    "n_choose_k * p_to_the_k * one_minus_p_to_the_n_minus_k"
   ]
  },
  {
   "cell_type": "markdown",
   "metadata": {},
   "source": [
    "### Problems\n",
    "\n",
    "Suppose we instead play the game of Sennet using 5 sticks.\n",
    "\n",
    "1. How many ways are there to get three white sticks?\n",
    "2. What is the probability that we will get three white sticks?\n",
    "3. Suppose we toss 10 coins.  How many different outcomes contain exactly three heads?\n",
    "4. Suppose we toss 20 coins.  How many different outcomes contain exactly three heads?\n",
    "5. Complete the next two rows of the table for sennet.  Do you recognize a pattern?"
   ]
  },
  {
   "cell_type": "code",
   "execution_count": 7,
   "metadata": {},
   "outputs": [
    {
     "data": {
      "text/plain": [
       "10.0"
      ]
     },
     "execution_count": 7,
     "metadata": {},
     "output_type": "execute_result"
    }
   ],
   "source": [
    "#probabilidad de coger 3 cosas de 5\n",
    "comb(5,3)"
   ]
  },
  {
   "cell_type": "code",
   "execution_count": 8,
   "metadata": {},
   "outputs": [
    {
     "data": {
      "text/plain": [
       "0.625"
      ]
     },
     "execution_count": 8,
     "metadata": {},
     "output_type": "execute_result"
    }
   ],
   "source": [
    "#probabilidad de coger 3 cosas de 5\n",
    "n_choose_k = comb(5,3)\n",
    "#probabilidad del 50% al ser un \"cara o cruz\"\n",
    "p_to_the_k = (1/2)**2\n",
    "#probabilidad de fallo del 50% al ser un \"cara o cruz\"\n",
    "one_minus_p_to_the_n_minus_k = (1/2)**2\n",
    "#probabilidad de sacar 2 palos blancos de 4 totales\n",
    "n_choose_k * p_to_the_k * one_minus_p_to_the_n_minus_k"
   ]
  },
  {
   "cell_type": "code",
   "execution_count": 9,
   "metadata": {},
   "outputs": [
    {
     "data": {
      "text/plain": [
       "7.5"
      ]
     },
     "execution_count": 9,
     "metadata": {},
     "output_type": "execute_result"
    }
   ],
   "source": [
    "#probabilidad de coger 3 caras de 10 monedas\n",
    "n_choose_k = comb(10,3)\n",
    "#probabilidad del 50% al ser un \"cara o cruz\"\n",
    "p_to_the_k = (1/2)**2\n",
    "#probabilidad de fallo del 50% al ser un \"cara o cruz\"\n",
    "one_minus_p_to_the_n_minus_k = (1/2)**2\n",
    "#probabilidad de sacar 2 palos blancos de 4 totales\n",
    "n_choose_k * p_to_the_k * one_minus_p_to_the_n_minus_k"
   ]
  },
  {
   "cell_type": "code",
   "execution_count": 10,
   "metadata": {},
   "outputs": [
    {
     "data": {
      "text/plain": [
       "71.25"
      ]
     },
     "execution_count": 10,
     "metadata": {},
     "output_type": "execute_result"
    }
   ],
   "source": [
    "#probabilidad de coger 3 caras de 20 monedas\n",
    "n_choose_k = comb(20,3)\n",
    "#probabilidad del 50% al ser un \"cara o cruz\"\n",
    "p_to_the_k = (1/2)**2\n",
    "#probabilidad de fallo del 50% al ser un \"cara o cruz\"\n",
    "one_minus_p_to_the_n_minus_k = (1/2)**2\n",
    "#probabilidad de sacar 2 palos blancos de 4 totales\n",
    "n_choose_k * p_to_the_k * one_minus_p_to_the_n_minus_k"
   ]
  }
 ],
 "metadata": {
  "kernelspec": {
   "display_name": "Python 3",
   "language": "python",
   "name": "python3"
  },
  "language_info": {
   "codemirror_mode": {
    "name": "ipython",
    "version": 3
   },
   "file_extension": ".py",
   "mimetype": "text/x-python",
   "name": "python",
   "nbconvert_exporter": "python",
   "pygments_lexer": "ipython3",
   "version": "3.10.8"
  }
 },
 "nbformat": 4,
 "nbformat_minor": 2
}
