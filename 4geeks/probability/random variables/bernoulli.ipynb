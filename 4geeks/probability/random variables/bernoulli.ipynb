{
 "cells": [
  {
   "cell_type": "markdown",
   "metadata": {},
   "source": [
    "## Fórmula de Bernoulli en Python\n",
    "\n",
    "Función de Probablidades de Masa\n",
    "\n",
    "Podemos describir este tipo de evento como una función. Específicamente, una situación en la cual hay dos posibles resultados con una probabilidad asociada a cada uno. Esto se llama una distribución de bernoulli, y la forma funcional es:"
   ]
  },
  {
   "cell_type": "code",
   "execution_count": 2,
   "metadata": {},
   "outputs": [],
   "source": [
    "#f(k;p) = pk + (1-p)(1-k) for k in {0,1}\n",
    "\n",
    "def bernoulli (k,p):\n",
    "    return p * k + (1 - p) * (1 - k)\n"
   ]
  },
  {
   "cell_type": "markdown",
   "metadata": {},
   "source": [
    "## PROBLEMAS\n",
    "1. Supongamos que una bolsa contiene 8 metras rojas y 3 metras azules.\n",
    "\n",
    "    -Cual es la probabilidad de escoger una metra roja de un sorteo aleatori0?\n",
    "    \n",
    "    -Una metra azul?\n"
   ]
  },
  {
   "cell_type": "code",
   "execution_count": 3,
   "metadata": {},
   "outputs": [
    {
     "name": "stdout",
     "output_type": "stream",
     "text": [
      "80.0 %\n",
      "20.0 %\n"
     ]
    }
   ],
   "source": [
    "red = 0.8\n",
    "blue = 0.2\n",
    "\n",
    "print(f'{bernoulli(1, red)*100} %')\n",
    "print(f'{bernoulli(1, blue)*100} %')"
   ]
  },
  {
   "cell_type": "markdown",
   "metadata": {},
   "source": [
    "\n",
    "2. Supongamos que una bolsa contiene 4 metras rojas, 7 metras amarillas y 2 metras azules.\n",
    "\n",
    "    -Cual es la probabilidad de seleccionar una metra roja o una metra amarilla?\n",
    "\n",
    "    -Cual es la probabilidad de seleccionar una metra amarilla o una metra azul ?\n",
    "\n",
    "    -De cuantas maneras puedes seleccionar 2 colores de metras de la bolsa?"
   ]
  },
  {
   "cell_type": "code",
   "execution_count": 4,
   "metadata": {},
   "outputs": [
    {
     "data": {
      "text/plain": [
       "[0.3076923076923077, 0.5384615384615384, 0.15384615384615385]"
      ]
     },
     "execution_count": 4,
     "metadata": {},
     "output_type": "execute_result"
    }
   ],
   "source": [
    "red = 4\n",
    "yellow = 7\n",
    "blue = 2\n",
    "\n",
    "balls = [red, yellow, blue]\n",
    "percent_balls = []\n",
    "\n",
    "def percent (balls):\n",
    "    total=sum(balls)\n",
    "    result = [(x / total ) for x in balls]\n",
    "    for i in result:\n",
    "        percent_balls.append(i)\n",
    "    \n",
    "\n",
    "percent(balls)\n",
    "percent_balls\n",
    "        \n"
   ]
  },
  {
   "cell_type": "code",
   "execution_count": 5,
   "metadata": {},
   "outputs": [],
   "source": [
    "red_perc = 0.31\n",
    "yellow_perc = 0.54\n",
    "blue_perc = 0.15\n",
    "\n",
    "perc_array = [red_perc, yellow_perc, blue_perc]"
   ]
  },
  {
   "cell_type": "code",
   "execution_count": 6,
   "metadata": {},
   "outputs": [
    {
     "name": "stdout",
     "output_type": "stream",
     "text": [
      "0.8500000000000001\n",
      "0.6900000000000001\n"
     ]
    },
    {
     "ename": "TypeError",
     "evalue": "'bool' object is not iterable",
     "output_type": "error",
     "traceback": [
      "\u001b[0;31m---------------------------------------------------------------------------\u001b[0m",
      "\u001b[0;31mTypeError\u001b[0m                                 Traceback (most recent call last)",
      "\u001b[1;32m/workspaces/first-git-test/random variables/bernoulli.ipynb Celda 8\u001b[0m line \u001b[0;36m3\n\u001b[1;32m      <a href='vscode-notebook-cell://codespaces%2Bsuper-duper-cod-9797q9p6w5jw3ppww/workspaces/first-git-test/random%20variables/bernoulli.ipynb#X10sdnNjb2RlLXJlbW90ZQ%3D%3D?line=0'>1</a>\u001b[0m \u001b[39mprint\u001b[39m(bernoulli(\u001b[39m1\u001b[39m, red_perc \u001b[39m+\u001b[39m yellow_perc))\n\u001b[1;32m      <a href='vscode-notebook-cell://codespaces%2Bsuper-duper-cod-9797q9p6w5jw3ppww/workspaces/first-git-test/random%20variables/bernoulli.ipynb#X10sdnNjb2RlLXJlbW90ZQ%3D%3D?line=1'>2</a>\u001b[0m \u001b[39mprint\u001b[39m(bernoulli(\u001b[39m1\u001b[39m, blue_perc \u001b[39m+\u001b[39m yellow_perc))\n\u001b[0;32m----> <a href='vscode-notebook-cell://codespaces%2Bsuper-duper-cod-9797q9p6w5jw3ppww/workspaces/first-git-test/random%20variables/bernoulli.ipynb#X10sdnNjb2RlLXJlbW90ZQ%3D%3D?line=2'>3</a>\u001b[0m bernoulli(\u001b[39m1\u001b[39m, (x \u001b[39mfor\u001b[39;00m x \u001b[39min\u001b[39;00m perc_array \u001b[39m==\u001b[39m \u001b[39m2\u001b[39m))\n",
      "\u001b[0;31mTypeError\u001b[0m: 'bool' object is not iterable"
     ]
    }
   ],
   "source": [
    "print(bernoulli(1, red_perc + yellow_perc))\n",
    "print(bernoulli(1, blue_perc + yellow_perc))\n",
    "bernoulli(1, (x for x in perc_array == 2))"
   ]
  },
  {
   "cell_type": "markdown",
   "metadata": {},
   "source": [
    "3. Supongamos que una bolsa contiene 10 metras rojas y 7 azules.\n",
    "\n",
    "    -Supongamos que seleccionas una metra de la bolsa, cual es la probabilidad de que sea roja?\n",
    "\n",
    "    -Supongamos que seleccionas una metra azul, vuelves a colocarla en la bolsa y seleccionas otra metra. Cual es la probabilidad que la segunda metra sea azul?\n",
    "    \n",
    "    -Supongamos que seleccionas una metra azul, no devuelves la metra a la bolsa y seleccionas otra metra. Cual es la probabilidad que la segunda metra sea azul?"
   ]
  },
  {
   "cell_type": "code",
   "execution_count": null,
   "metadata": {},
   "outputs": [
    {
     "name": "stdout",
     "output_type": "stream",
     "text": [
      "Reds: 58.82%\n",
      "Blue: 41.18%\n"
     ]
    }
   ],
   "source": [
    "red = 10\n",
    "blue = 7\n",
    "\n",
    "balls= [red, blue]\n",
    "percent_balls = []\n",
    "\n",
    "percent(balls)\n",
    "red_perc = percent_balls[0]\n",
    "blue_perc = percent_balls[1]\n",
    "\n",
    "\n",
    "print(f'Reds: {round(red_perc*100, 2)}%')\n",
    "print(f'Blue: {round(blue_perc*100, 2)}%')\n",
    "\n",
    "\n",
    "\n"
   ]
  },
  {
   "cell_type": "code",
   "execution_count": null,
   "metadata": {},
   "outputs": [
    {
     "name": "stdout",
     "output_type": "stream",
     "text": [
      "Reds: 62.5%\n",
      "Blue: 37.5%\n"
     ]
    }
   ],
   "source": [
    "red = 10\n",
    "blue = 6\n",
    "\n",
    "balls= [red, blue]\n",
    "percent_balls = []\n",
    "\n",
    "percent(balls)\n",
    "red_perc = percent_balls[0]\n",
    "blue_perc = percent_balls[1]\n",
    "\n",
    "\n",
    "print(f'Reds: {round(red_perc*100, 2)}%')\n",
    "print(f'Blue: {round(blue_perc*100, 2)}%')"
   ]
  },
  {
   "cell_type": "code",
   "execution_count": null,
   "metadata": {},
   "outputs": [
    {
     "data": {
      "text/plain": [
       "1.25"
      ]
     },
     "execution_count": 10,
     "metadata": {},
     "output_type": "execute_result"
    }
   ],
   "source": [
    "percent_balls_pick = []\n",
    "\n",
    "def percent_pick (balls):\n",
    "    total=sum(balls)\n",
    "    result = [(x / (total - (balls[0]-1))) for x in balls]\n",
    "    for i in result:\n",
    "        percent_balls_pick.append(i)\n",
    "\n",
    "\n",
    "percent_pick(balls)\n",
    "red_perc_pick = percent_balls_pick[0]\n",
    "blue_perc_pick = percent_balls_pick[1]\n",
    "\n",
    "red_perc_pick"
   ]
  }
 ],
 "metadata": {
  "kernelspec": {
   "display_name": "Python 3",
   "language": "python",
   "name": "python3"
  },
  "language_info": {
   "codemirror_mode": {
    "name": "ipython",
    "version": 3
   },
   "file_extension": ".py",
   "mimetype": "text/x-python",
   "name": "python",
   "nbconvert_exporter": "python",
   "pygments_lexer": "ipython3",
   "version": "3.10.8"
  }
 },
 "nbformat": 4,
 "nbformat_minor": 2
}
